{
 "cells": [
  {
   "cell_type": "markdown",
   "metadata": {},
   "source": [
    "# Classification\n"
   ]
  },
  {
   "cell_type": "markdown",
   "metadata": {},
   "source": [
    "## Imports"
   ]
  },
  {
   "cell_type": "code",
   "execution_count": 305,
   "metadata": {},
   "outputs": [],
   "source": [
    "import numpy as np\n",
    "import pandas as pd\n",
    "from time import time\n",
    "import matplotlib.pyplot as plt\n",
    "import matplotlib.cm as cm\n",
    "\n",
    "#sklearn\n",
    "from sklearn.svm import SVC, LinearSVC\n",
    "from sklearn.metrics.pairwise import paired_distances\n",
    "from sklearn.model_selection import GridSearchCV, cross_val_score, KFold, train_test_split\n",
    "from sklearn.tree import DecisionTreeClassifier\n",
    "from sklearn.ensemble import BaggingClassifier, RandomForestClassifier\n",
    "from sklearn.preprocessing import StandardScaler\n",
    "from sklearn.metrics import classification_report,confusion_matrix,balanced_accuracy_score\n",
    "from sklearn import decomposition\n",
    "\n",
    "# ignore warnings\n",
    "import warnings\n",
    "warnings.filterwarnings(\"ignore\", category=DeprecationWarning)\n",
    "warnings.simplefilter(action='ignore', category=FutureWarning)\n",
    "warnings.filterwarnings(\"ignore\")\n",
    "\n",
    "# confusion matrix\n",
    "def plot_confusion_matrix(cm, classes,\n",
    "                          normalize=False,\n",
    "                          title='Confusion matrix',\n",
    "                          cmap=plt.cm.Blues):\n",
    "    \"\"\"\n",
    "    This function prints and plots the confusion matrix.\n",
    "    Normalization can be applied by setting `normalize=True`.\n",
    "    \"\"\"\n",
    "    if normalize:\n",
    "        cm = cm.astype('float') / cm.sum(axis=1)[:, np.newaxis]\n",
    "        print(\"Normalized confusion matrix\")\n",
    "    else:\n",
    "        print('Confusion matrix, without normalization')\n",
    "\n",
    "    print(cm)\n",
    "\n",
    "    plt.imshow(cm, interpolation='nearest', cmap=cmap)\n",
    "    plt.title(title)\n",
    "    plt.colorbar()\n",
    "    tick_marks = np.arange(len(classes))\n",
    "    plt.xticks(tick_marks, classes, rotation=45)\n",
    "    plt.yticks(tick_marks, classes)\n",
    "\n",
    "    fmt = '.2f' if normalize else 'd'\n",
    "    thresh = cm.max() / 2.\n",
    "    for i, j in itertools.product(range(cm.shape[0]), range(cm.shape[1])):\n",
    "        plt.text(j, i, format(cm[i, j], fmt),\n",
    "                 horizontalalignment=\"center\",\n",
    "                 color=\"white\" if cm[i, j] > thresh else \"black\")\n",
    "\n",
    "    plt.ylabel('True label')\n",
    "    plt.xlabel('Predicted label')\n",
    "    plt.tight_layout()"
   ]
  },
  {
   "cell_type": "code",
   "execution_count": 292,
   "metadata": {},
   "outputs": [],
   "source": [
    "# read train labels\n",
    "df = pd.read_csv('data/train.csv')\n",
    "y_df = df['Malignant']\n",
    "y = y_df.values\n",
    "\n",
    "# read train and test datasets\n",
    "train_data = pd.read_csv('./data/train_data')\n",
    "X = train_data.values\n",
    "\n",
    "test_data = pd.read_csv('./data/test_data')\n",
    "submission = test_data.values"
   ]
  },
  {
   "cell_type": "code",
   "execution_count": 293,
   "metadata": {},
   "outputs": [],
   "source": [
    "# standerdize train data\n",
    "scaler = StandardScaler()\n",
    "scaler.fit(X)\n",
    "X=scaler.transform(X)\n",
    "\n",
    "# standerdize test data\n",
    "scaler = StandardScaler()\n",
    "scaler.fit(submission)\n",
    "submission=scaler.transform(submission)\n",
    "\n",
    "X_train, X_test, y_train, y_test = train_test_split(X, np.ravel(y), test_size=0.25, random_state=42)"
   ]
  },
  {
   "cell_type": "markdown",
   "metadata": {},
   "source": [
    "# Random oversampling"
   ]
  },
  {
   "cell_type": "code",
   "execution_count": 294,
   "metadata": {},
   "outputs": [
    {
     "name": "stdout",
     "output_type": "stream",
     "text": [
      "[(0, 312), (1, 312)]\n"
     ]
    }
   ],
   "source": [
    "from imblearn.over_sampling import RandomOverSampler\n",
    "from collections import Counter\n",
    "ros = RandomOverSampler(random_state=0)\n",
    "X_resampled, y_resampled = ros.fit_resample(X_train, y_train)\n",
    "print(sorted(Counter(y_resampled).items()))\n",
    "X_train = X_resampled\n",
    "y_train = y_resampled"
   ]
  },
  {
   "cell_type": "markdown",
   "metadata": {},
   "source": [
    "# Variable selection"
   ]
  },
  {
   "cell_type": "code",
   "execution_count": 295,
   "metadata": {},
   "outputs": [],
   "source": [
    "# forward feature selection and/or backward feature selection\n",
    "\n",
    "Lsvm = LinearSVC(class_weight='balanced')\n",
    "n, p = X_train.shape\n",
    "\n",
    "# Stopping criterian : balanced accuracy > threshold\n",
    "threshold = 0.6\n",
    "\n",
    "test = np.zeros((p,p))\n",
    "resids = y_train\n",
    "var_sel = []\n",
    "var_remain = list(range(p))\n",
    "\n",
    "for k in range(p): \n",
    "    resids_mem = np.zeros((p,n))\n",
    "\n",
    "    for i in var_remain:\n",
    "        xtmp = X_train [:,[i]]\n",
    "        xtst = X_test [:,[i]]\n",
    "        Lsvm.fit(xtmp , y_train)\n",
    "        test[k,i] = balanced_accuracy_score(y_test, Lsvm.predict(xtst))\n",
    "    \n",
    "    best_var = np.argmax(test[k,:])  \n",
    "    if test[k,best_var] < threshold :\n",
    "        break  \n",
    "        \n",
    "    var_sel.append(best_var)\n",
    "    resids = resids_mem[best_var,:]\n",
    "    var_remain = np.setdiff1d(var_remain,var_sel)"
   ]
  },
  {
   "cell_type": "code",
   "execution_count": 297,
   "metadata": {},
   "outputs": [
    {
     "name": "stdout",
     "output_type": "stream",
     "text": [
      "Selected variables are : [9, 8, 5, 31, 33, 2]\n"
     ]
    }
   ],
   "source": [
    "X_forward = X_train[:,var_sel]\n",
    "submission = submission[:,var_sel]\n",
    "X_tst = X_test[:,var_sel]\n",
    "print(\"Selected variables are : {}\".format(var_sel))\n",
    "#X_forward = X_train\n",
    "#X_tst = X_test"
   ]
  },
  {
   "cell_type": "markdown",
   "metadata": {},
   "source": [
    "## Support vector machine"
   ]
  },
  {
   "cell_type": "code",
   "execution_count": 298,
   "metadata": {
    "scrolled": true
   },
   "outputs": [
    {
     "name": "stdout",
     "output_type": "stream",
     "text": [
      "Fitting Linear SVM \n",
      "Best Score: 0.7083333333333334\n",
      "Best params: {'C': 0.001}\n",
      "Normalized confusion matrix\n",
      "[[0.72641509 0.27358491]\n",
      " [0.36231884 0.63768116]]\n"
     ]
    },
    {
     "data": {
      "image/png": "[encoded data removed]",
      "text/plain": [
       "<Figure size 432x288 with 2 Axes>"
      ]
     },
     "metadata": {
      "needs_background": "light"
     },
     "output_type": "display_data"
    },
    {
     "name": "stdout",
     "output_type": "stream",
     "text": [
      "mattews corr : 0.3608545390548938\n",
      "accuracy : 0.6914285714285714\n"
     ]
    }
   ],
   "source": [
    "# Fitting linear SVM \n",
    "import itertools    \n",
    "print(\"Fitting Linear SVM \")\n",
    "t0 = time()\n",
    "p_grid_lsvm = {'C': [1e-3,1e-2,1e-1,1,2,3,4,5,6,7,8,9,1e1]}\n",
    "Lsvm = LinearSVC(class_weight='balanced')\n",
    "inner_cv = KFold(n_splits=5, shuffle=True, random_state=42)\n",
    "outer_cv = KFold(n_splits=5, shuffle=True, random_state=42)\n",
    "\n",
    "\n",
    "# Looking for the best hyperparameters\n",
    "grid_lsvm = GridSearchCV(estimator=Lsvm, param_grid=p_grid_lsvm, scoring=\"accuracy\", cv=5)\n",
    "grid_lsvm.fit(X_forward, y_train)\n",
    "print(\"Best Score: {}\".format(grid_lsvm.best_score_))\n",
    "print(\"Best params: {}\".format(grid_lsvm.best_params_))\n",
    "class_names = [\"malignant\", 'benign']\n",
    "y_pred = grid_lsvm.predict(X_tst)\n",
    "# Compute confusion matrix\n",
    "cnf_matrix = confusion_matrix(y_test, y_pred)\n",
    "\n",
    "# Plot normalized confusion matrix\n",
    "plt.figure()\n",
    "plot_confusion_matrix(cnf_matrix, classes=class_names, normalize=True,\n",
    "                      title='Normalized confusion matrix')\n",
    "plt.show()\n",
    "from sklearn.metrics import matthews_corrcoef\n",
    "print(\"mattews corr :\",matthews_corrcoef(y_test, y_pred))\n",
    "print(\"accuracy :\",grid_lsvm.score(X_tst,y_test) )"
   ]
  },
  {
   "cell_type": "markdown",
   "metadata": {},
   "source": [
    "# Decision trees"
   ]
  },
  {
   "cell_type": "code",
   "execution_count": 300,
   "metadata": {
    "scrolled": true
   },
   "outputs": [
    {
     "name": "stdout",
     "output_type": "stream",
     "text": [
      "Decision Tree : training set\n",
      "{'min_samples_leaf': 2}\n",
      "done in 5.676s\n",
      "Average and std CV score : 0.7211225806451613 +- 0.016851020095288622\n",
      "Score :  0.6685714285714286\n",
      "mattews corr : 0.3097055126481111\n"
     ]
    }
   ],
   "source": [
    "# Decision Tree\n",
    "print(\"Decision Tree : training set\")\n",
    "t0 = time()\n",
    "Tree = DecisionTreeClassifier(criterion=\"gini\",random_state=0)\n",
    "#Tree.fit(X_train,y_train)\n",
    "p_grid = {'min_samples_leaf': range(2,100)}\n",
    "inner_cv = KFold(n_splits=5, shuffle=True, random_state=0)\n",
    "outer_cv = KFold(n_splits=5, shuffle=True, random_state=0)\n",
    "# Nested CV with parameter optimization\n",
    "clf3 = GridSearchCV(estimator=Tree, param_grid=p_grid, cv=inner_cv)\n",
    "clf3.fit(X_forward,y_train)\n",
    "nested_score = cross_val_score(clf3, X=X_forward, y=np.ravel(y_train), cv=outer_cv)\n",
    "print(clf3.best_params_)\n",
    "# Average accuracy\n",
    "print(\"done in %0.3fs\" % (time() - t0))\n",
    "print(\"Average and std CV score : {0} +- {1}\".format(nested_score.mean(), nested_score.std() ))\n",
    "print(\"Score : \",clf3.score(X_tst,y_test))\n",
    "y_pred = clf3.predict(X_tst)\n",
    "print(\"mattews corr :\",matthews_corrcoef(y_test, y_pred))"
   ]
  },
  {
   "cell_type": "markdown",
   "metadata": {},
   "source": [
    "## Bagging"
   ]
  },
  {
   "cell_type": "code",
   "execution_count": 301,
   "metadata": {},
   "outputs": [
    {
     "name": "stdout",
     "output_type": "stream",
     "text": [
      "Decision Tree with Bagging : training set\n",
      "Average and std Cv score : 0.7564774193548387 +- 0.025563749047207353\n",
      "Best Score: 0.7451923076923077\n",
      "Best params: {'n_estimators': 500}\n",
      "Score :  0.7142857142857143\n",
      "mattews corr : 0.42792535689679917\n"
     ]
    }
   ],
   "source": [
    "# Bagging\n",
    "print(\"Decision Tree with Bagging : training set\")\n",
    "p_grid_tree = {'min_samples_leaf': [2,3,4,5,6,10],'min_samples_split': [2,3,4,5,6]} \n",
    "grid_tree = GridSearchCV(estimator=Tree, param_grid=p_grid_tree, scoring=\"precision\", cv=5)\n",
    "grid_tree.fit(X_forward, y_train)\n",
    "Tree2 = DecisionTreeClassifier(criterion=\"gini\", min_samples_leaf=grid_tree.best_params_['min_samples_leaf'],  random_state=0)\n",
    "p_grid_bagging = {'n_estimators': [500,1000]}      \n",
    "bag=BaggingClassifier(base_estimator=Tree2, random_state=0, max_samples=0.5)\n",
    "\n",
    "inner_cv = KFold(n_splits=5, shuffle=True, random_state=0)\n",
    "outer_cv = KFold(n_splits=5, shuffle=True, random_state=0)\n",
    "clf_Tree = GridSearchCV(estimator=bag, param_grid=p_grid_bagging, cv=inner_cv, scoring=\"precision\")\n",
    "nested_score = cross_val_score(clf_Tree, X=X_forward, y=np.ravel(y_train),scoring=\"accuracy\", cv=outer_cv)\n",
    "clf_Tree.fit(X_forward,y_train)\n",
    "print(\"Average and std Cv score : {0} +- {1}\".format(nested_score.mean(), nested_score.std() ))\n",
    "\n",
    "grid_bag = GridSearchCV(estimator=bag, param_grid=p_grid_bagging, scoring=\"accuracy\", cv=5)\n",
    "grid_bag.fit(X_forward, y_train)\n",
    "print(\"Best Score: {}\".format(grid_bag.best_score_))\n",
    "print(\"Best params: {}\".format(grid_bag.best_params_))\n",
    "print(\"Score : \",grid_bag.score(X_tst,y_test))\n",
    "y_pred = grid_bag.predict(X_tst)\n",
    "print(\"mattews corr :\",matthews_corrcoef(y_test, y_pred))"
   ]
  },
  {
   "cell_type": "markdown",
   "metadata": {},
   "source": [
    "## Random forests"
   ]
  },
  {
   "cell_type": "code",
   "execution_count": 302,
   "metadata": {},
   "outputs": [
    {
     "name": "stdout",
     "output_type": "stream",
     "text": [
      "Random Forest : training set\n",
      "done in 5.576s\n",
      "{'max_features': 'sqrt', 'min_samples_leaf': 2, 'n_estimators': 100}\n",
      "Score :  0.6742857142857143\n",
      "mattews corr : 0.3310750787531568\n"
     ]
    }
   ],
   "source": [
    "# Random Forest\n",
    "t0 = time()\n",
    "print(\"Random Forest : training set\")\n",
    "RF=RandomForestClassifier(criterion=\"gini\", random_state=0)\n",
    "p_grid_RF = {'n_estimators': [6,10,20,30,50,100], 'min_samples_leaf': [2,4,6], 'max_features': ['sqrt','log2']}\n",
    "rf = GridSearchCV(estimator=RF, param_grid=p_grid_RF)\n",
    "rf.fit(X_forward,y_train)\n",
    "print(\"done in %0.3fs\" % (time() - t0))\n",
    "print(rf.best_params_)\n",
    "print(\"Score : \",rf.score(X_tst,y_test))\n",
    "y_pred = rf.predict(X_tst)\n",
    "print(\"mattews corr :\",matthews_corrcoef(y_test, y_pred))"
   ]
  },
  {
   "cell_type": "code",
   "execution_count": 303,
   "metadata": {},
   "outputs": [
    {
     "name": "stdout",
     "output_type": "stream",
     "text": [
      "     ImageId  Malignant\n",
      "0  IM_000788          0\n",
      "1  IM_000640          0\n",
      "2  IM_000889          1\n"
     ]
    }
   ],
   "source": [
    "### submission for kaggle\n",
    "i=0\n",
    "df_submission = pd.read_csv('data/test.csv')\n",
    "for Id in df_submission['ImageId']:\n",
    "    value = y[i] \n",
    "    df_submission.loc[df_submission['ImageId'] == Id, 'Malignant'] = value\n",
    "    i=i+1\n",
    "    \n",
    "df_submission['Malignant'] = df_submission['Malignant'].astype(int) # This line is mandatory to be sure to have integer\n",
    "print(df_submission.head(3))\n",
    "df_submission.to_csv('data/11066.csv', index=None, sep=',', mode='w')"
   ]
  }
 ],
 "metadata": {
  "kernelspec": {
   "display_name": "Python 3",
   "language": "python",
   "name": "python3"
  },
  "language_info": {
   "codemirror_mode": {
    "name": "ipython",
    "version": 3
   },
   "file_extension": ".py",
   "mimetype": "text/x-python",
   "name": "python",
   "nbconvert_exporter": "python",
   "pygments_lexer": "ipython3",
   "version": "3.6.8"
  }
 },
 "nbformat": 4,
 "nbformat_minor": 2
}
