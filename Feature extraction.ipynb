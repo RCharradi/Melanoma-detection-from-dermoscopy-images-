{
 "cells": [
  {
   "cell_type": "markdown",
   "metadata": {},
   "source": [
    "# Feature Extraction"
   ]
  },
  {
   "cell_type": "markdown",
   "metadata": {},
   "source": [
    "## I. Imports"
   ]
  },
  {
   "cell_type": "code",
   "execution_count": 3,
   "metadata": {},
   "outputs": [],
   "source": [
    "import numpy as np\n",
    "import pandas as pd\n",
    "import matplotlib.pyplot as plt\n",
    "from scipy import ndimage\n",
    "from skimage.io import imread\n",
    "from time import time\n",
    "from skimage.measure import shannon_entropy\n",
    "from skimage.measure import regionprops\n",
    "from scipy.stats import gaussian_kde\n",
    "from os import mkdir, path\n",
    "import cv2\n",
    "import warnings\n",
    "warnings.filterwarnings(\"ignore\")\n",
    "\n",
    "\n",
    "from src.features import *\n",
    "from util.preprocessing import *"
   ]
  },
  {
   "cell_type": "code",
   "execution_count": 3,
   "metadata": {},
   "outputs": [
    {
     "name": "stdout",
     "output_type": "stream",
     "text": [
      "number of melanoma images :  282\n",
      "number of benign images :  418\n"
     ]
    }
   ],
   "source": [
    "# read train and test data\n",
    "df = pd.read_csv('data/train.csv')\n",
    "df_test = pd.read_csv(\"./data/test.csv\")\n",
    "\n",
    "# X_train and y_train are used for the learning partss\n",
    "X_train = df['ImageId'].values\n",
    "y_train = df['Malignant'].values\n",
    "n = X_train.shape\n",
    "\n",
    "# X_test is used to produce the final estimation\n",
    "X_test = df_test['ImageId'].values\n",
    "p = X_test.shape\n",
    "\n",
    "# number of images in each sets\n",
    "print('number of melanoma images : ', np.sum(y_train))\n",
    "print('number of benign images : ', (int)(n - np.sum(y_train)))"
   ]
  },
  {
   "cell_type": "markdown",
   "metadata": {},
   "source": [
    "# ABCD fearures"
   ]
  },
  {
   "cell_type": "markdown",
   "metadata": {},
   "source": [
    "The following features are based on the article **Performance of a dermoscopy-based computer vision system for the diagnosis of pigmented skin lesions compared with visual evaluation\n",
    "by experienced dermatologists** , Maciel Zorteaa, Thomas R. Schopfb, Kevin Thonb,al"
   ]
  },
  {
   "cell_type": "markdown",
   "metadata": {},
   "source": [
    "### Assimetry"
   ]
  },
  {
   "cell_type": "code",
   "execution_count": null,
   "metadata": {},
   "outputs": [],
   "source": [
    "# Assimetry of shape\n",
    "begin = time()\n",
    "features1_2_train = X_df_train.map(assimitry_Shape)\n",
    "features1_2_test = X_df_test.map(assimitry_Shape)\n",
    "end = time()\n",
    "print('Assimetry of shape features :' , (end-begin))"
   ]
  },
  {
   "cell_type": "code",
   "execution_count": 20,
   "metadata": {},
   "outputs": [],
   "source": [
    "# adding features 1 and 2 of the training and test set \n",
    "f1 = np.zeros(n)\n",
    "f2 = np.zeros(n)\n",
    "for i in range(n):\n",
    "    f1[i] = features1_2_train[i][0]\n",
    "    f2[i] = features1_2_train[i][1]\n",
    "df['f1'] = f1\n",
    "df['f2'] = f2\n",
    "\n",
    "f1_test = np.zeros(p)\n",
    "f2_test = np.zeros(p)\n",
    "for i in range(p):\n",
    "    f1_test[i] = features1_2_test[i][0]\n",
    "    f2_test[i] = features1_2_test[i][1]\n",
    "df_test['f1'] = f1_test\n",
    "df_test['f2'] = f2_test"
   ]
  },
  {
   "cell_type": "code",
   "execution_count": null,
   "metadata": {},
   "outputs": [],
   "source": [
    "# Assimetry of color\n",
    "begin = time()\n",
    "features3_4_train = X_df_train.map(assimetry_color) #\n",
    "features3_4_test = X_df_test.map(assimetry_color)\n",
    "end = time()\n",
    "print('Assimetry of color features :' , (end-begin))"
   ]
  },
  {
   "cell_type": "code",
   "execution_count": 31,
   "metadata": {},
   "outputs": [],
   "source": [
    "### adding features 3 and 4 of the training and test set to the df data structure to keep them as csv files\n",
    "f3 = np.zeros(n)\n",
    "f4 = np.zeros(n)\n",
    "for i in range(n):\n",
    "    f3[i] = features3_4_train[i][0]\n",
    "    f4[i] = features3_4_train[i][1]\n",
    "df['f3'] = f3\n",
    "df['f4'] = f4\n",
    "\n",
    "f3_test = np.zeros(p)\n",
    "f4_test = np.zeros(p)\n",
    "for i in range(p):\n",
    "    f3_test[i] = features3_4_test[i][0]\n",
    "    f4_test[i] = features3_4_test[i][1]\n",
    "df_test['f3'] = f3_test\n",
    "df_test['f4'] = f4_test"
   ]
  },
  {
   "cell_type": "markdown",
   "metadata": {},
   "source": [
    "### Color features"
   ]
  },
  {
   "cell_type": "code",
   "execution_count": null,
   "metadata": {},
   "outputs": [],
   "source": [
    "# computes features 13, 14 and 15 for the training and test set\n",
    "begin = time() \n",
    "features13_15_train = X_df_train.map(feature_13_f14_15)\n",
    "features13_15_test = X_df_test.map(feature_13_f14_15)\n",
    "end = time()\n",
    "print('Feature 13,14 and 15 :' , (end-begin))"
   ]
  },
  {
   "cell_type": "code",
   "execution_count": 34,
   "metadata": {},
   "outputs": [],
   "source": [
    "### adding features 13, 14 and 15 of the training and test set to the df data structure to keep them as csv files\n",
    "f13 = np.zeros(n)\n",
    "f14 = np.zeros(n)\n",
    "f15 = np.zeros(n)\n",
    "for i in range(n):\n",
    "    f13[i] = features13_15_train[i][0]\n",
    "    f14[i] = features13_15_train[i][1]\n",
    "    f15[i] = features13_15_train[i][2]\n",
    "df['f13'] = f13\n",
    "df['f14'] = f14\n",
    "df['f15'] = f15\n",
    "\n",
    "f13_test = np.zeros(p)\n",
    "f14_test = np.zeros(p)\n",
    "f15_test = np.zeros(p)\n",
    "for i in range(p):\n",
    "    f13_test[i] = features13_15_test[i][0]\n",
    "    f14_test[i] = features13_15_test[i][1]\n",
    "    f15_test[i] = features13_15_test[i][2]\n",
    "df_test['f13'] = f13_test\n",
    "df_test['f14'] = f14_test\n",
    "df_test['f15'] = f15_test"
   ]
  },
  {
   "cell_type": "code",
   "execution_count": null,
   "metadata": {},
   "outputs": [],
   "source": [
    "### computes features 16 to 18 for the training and test set\n",
    "begin = time()\n",
    "features16_18_train = X_df_train.map(feature_16_17_18) #3h40min\n",
    "features16_18_test = X_df_test.map(feature_16_17_18)\n",
    "end = time()\n",
    "print('Feature 16,17 and 18 :' , (end-begin))"
   ]
  },
  {
   "cell_type": "code",
   "execution_count": 37,
   "metadata": {},
   "outputs": [],
   "source": [
    "### adding features 16 to 18 of the training and test set \n",
    "f16 = np.zeros(n)\n",
    "f17 = np.zeros(n)\n",
    "f18 = np.zeros(n)\n",
    "for i in range(n):\n",
    "    f16[i] = features16_18_train[i][0]\n",
    "    f17[i] = features16_18_train[i][1]\n",
    "    f18[i] = features16_18_train[i][2]\n",
    "df['f16'] = f16\n",
    "df['f17'] = f17\n",
    "df['f18'] = f18\n",
    "\n",
    "f16_test = np.zeros(p)\n",
    "f17_test = np.zeros(p)\n",
    "f18_test = np.zeros(p)\n",
    "for i in range(p):\n",
    "    f16_test[i] = features16_18_test[i][0]\n",
    "    f17_test[i] = features16_18_test[i][1]\n",
    "    f18_test[i] = features16_18_test[i][2]\n",
    "df_test['f16'] = f16_test\n",
    "df_test['f17'] = f17_test\n",
    "df_test['f18'] = f18_test"
   ]
  },
  {
   "cell_type": "markdown",
   "metadata": {},
   "source": [
    "# Border, Dimentions, Entropy,.."
   ]
  },
  {
   "cell_type": "markdown",
   "metadata": {},
   "source": [
    "The following features are inspired from the work of **Palash Sarkar** \n",
    "\n",
    "**Link** : https://github.com/Tejas07PSK/Melanoma-Detection"
   ]
  },
  {
   "cell_type": "code",
   "execution_count": 1,
   "metadata": {},
   "outputs": [],
   "source": [
    "from src.Palash_Sarkar_work import Prep as p\n",
    "from src.Palash_Sarkar_work.texture import Haralick as har\n",
    "from src.Palash_Sarkar_work.texture import King as k\n",
    "from src.Palash_Sarkar_work.physical import Gabor as g"
   ]
  },
  {
   "cell_type": "code",
   "execution_count": 15,
   "metadata": {},
   "outputs": [],
   "source": [
    "#create dataset \n",
    "def _createDataSet(X):\n",
    "    \n",
    "    #initialize dataset\n",
    "    dset = np.zeros((1,25))\n",
    "\n",
    "    for i in range(0, X.shape[0]):\n",
    "        print('processing image {}'.format(X[i]))\n",
    "        \n",
    "        image = X[i]\n",
    "        im = imread( 'images/im/'  + str(image) + '.jpg')\n",
    "        filemask = 'images/im/{}_segmentation.jpg'.format(image)\n",
    "        cvu8_mask = imread(filemask).astype(np.uint8)\n",
    "        thresh, masku8 = cv2.threshold(cvu8_mask, 127, 255, cv2.THRESH_BINARY)\n",
    "        \n",
    "        obj = p.Prep(im)\n",
    "        feobj = har.HarFeat(obj.getSegGrayImg())\n",
    "        feobj3 = g.Gabor(obj.getSegGrayImg(),masku8, obj.getSegColImg())\n",
    "        feobj4 = k.KingFeat(obj.getSegGrayImg()) \n",
    "        \n",
    "        featarr = []\n",
    "        \n",
    "        #Features list\n",
    "        featarr.append(feobj.getAngularSecondMomentASM())\n",
    "        featarr.append(feobj.getEnergy())\n",
    "        featarr.append(feobj.getEntropy())\n",
    "        featarr.append(feobj.getContrast())\n",
    "        featarr.append(feobj.getHomogeneity())\n",
    "        featarr.append(feobj.getDm())\n",
    "        featarr.append(feobj.getCorrelation())\n",
    "        featarr.append(feobj.getHarCorrelation())\n",
    "        featarr.append(feobj.getClusterShade())\n",
    "        featarr.append(feobj.getClusterProminence())\n",
    "        featarr.append(feobj.getMoment1())\n",
    "        featarr.append(feobj.getMoment2())\n",
    "        featarr.append(feobj.getMoment3())\n",
    "        featarr.append(feobj.getMoment4())\n",
    "        featarr.append(feobj.getDasm())\n",
    "        featarr.append(feobj.getDmean())\n",
    "        featarr.append(feobj.getDentropy())\n",
    "        featarr.append(feobj3.getAsymmetryIndex())\n",
    "        featarr.append(feobj3.getCompactIndex())\n",
    "        featarr.append(feobj3.getDiameter())\n",
    "        featarr.append(feobj3.getColorVariance())\n",
    "        featarr.append(feobj4.getKingsCoarseness())\n",
    "        featarr.append(feobj4.getKingsContrast())\n",
    "        featarr.append(feobj4.getKingsComplexity())\n",
    "        featarr.append(feobj4.getKingsStrength())\n",
    "        \n",
    "        \n",
    "        featarr = np.asarray(featarr)\n",
    "        featarr  = np.reshape(featarr , (1,25))\n",
    "        dset = np.r_[dset,featarr]\n",
    "        \n",
    "\n",
    "    return dset[1:]"
   ]
  },
  {
   "cell_type": "code",
   "execution_count": null,
   "metadata": {},
   "outputs": [],
   "source": [
    "# Create train and test datasets\n",
    "data_train =  _createDataSet(X_train)\n",
    "data_test = _createDataSet(X_test)\n",
    "\n",
    "# list of feature names\n",
    "featnames = np.array(['ASM', 'ENERGY', 'ENTROPY', 'CONTRAST', 'HOMOGENEITY', 'DM', 'CORRELATION', 'HAR-CORRELATION', 'CLUSTER-SHADE', 'CLUSTER-PROMINENCE', 'MOMENT-1', 'MOMENT-2', 'MOMENT-3', 'MOMENT-4', 'DASM', 'DMEAN', 'DENTROPY', 'ASYMMETRY-INDEX', 'COMPACT-INDEX', 'DIAMETER', 'COLOR-VARIANCE', 'KINGS-COARSENESS', 'KINGS-CONTRAST', 'KINGS-COMPLEXITY', 'KINGS-STRENGTH'], dtype=object, order='C')\n",
    "\n",
    "# convert to dataframe\n",
    "train = pd.DataFrame(data_train)\n",
    "train.columns = featnames\n",
    "test = pd.DataFrame(data_test)\n",
    "test.columns = featnames"
   ]
  },
  {
   "cell_type": "code",
   "execution_count": null,
   "metadata": {},
   "outputs": [],
   "source": [
    "# Concatenate the dataframe with the previous extracted features\n",
    "train_data = pd.concat([df, train], axis=1)\n",
    "test_data = pd.concat([df_test, test], axis=1)\n",
    "\n",
    "# Save features to csv\n",
    "train_data.to_csv('./data/train_data',index=False)\n",
    "test_data.to_csv('./data/test_data',index=False)"
   ]
  }
 ],
 "metadata": {
  "kernelspec": {
   "display_name": "Python 3",
   "language": "python",
   "name": "python3"
  },
  "language_info": {
   "codemirror_mode": {
    "name": "ipython",
    "version": 3
   },
   "file_extension": ".py",
   "mimetype": "text/x-python",
   "name": "python",
   "nbconvert_exporter": "python",
   "pygments_lexer": "ipython3",
   "version": "3.6.8"
  }
 },
 "nbformat": 4,
 "nbformat_minor": 2
}
